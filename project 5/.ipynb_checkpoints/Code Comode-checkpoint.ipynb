{
 "cells": [
  {
   "cell_type": "markdown",
   "metadata": {},
   "source": [
    "# Code Comode: "
   ]
  },
  {
   "cell_type": "code",
   "execution_count": null,
   "metadata": {
    "collapsed": true
   },
   "outputs": [],
   "source": [
    "Labels in case I don't want to go to the codebook'\n",
    "(targtype1; targtype1_txt)\n",
    "(weaptype1; weaptype1_txt)\n",
    "Nationality of Target/Victim\n",
    "(natlty1; natlty1_txt)\n",
    "Perpetrator Group Name\n",
    "(gname)\n",
    "Perpetrator Sub‐Group Name\n",
    "(gsubname)Second Perpetrator Group Name\n",
    "(gname2) Text Variable\n",
    "This field is used to record the name of the second perpetrator when responsibility for the attack is attributed to more than one perpetrator. Conventions follow “Perpetrator Group” field.\n",
    "Second Perpetrator Sub‐Group Name\n",
    "(gsubname2)\n",
    "First Perpetrator Group Suspected/Unconfirmed?\n",
    "(guncertain1)\n",
    "Second Perpetrator Group Suspected/Unconfirmed?\n",
    "(guncertain2)\n",
    "(claimed)\n",
    "Mode for Claim of Responsibility\n",
    "(claimmode; claimmode_txt)\n",
    "Motive\n",
    "(motive)\n",
    "International‐ Logistical\n",
    "(INT_LOG)The attack was logistically international; the nationality of the perpetrator group differs from the location of the attack.\n",
    "International‐ Ideological\n",
    "(INT_IDEO) (Categorical Variable)\n",
    "This variable is based on a comparison between the nationality of the perpetrator group and the nationality of the target(s)/victim(s). It indicates whether a perpetrator group attacked a target of a different nationality.\n",
    "\n"
   ]
  },
  {
   "cell_type": "code",
   "execution_count": null,
   "metadata": {
    "collapsed": true
   },
   "outputs": [],
   "source": [
    "# change to ints and then lambda to datetime\n",
    "\n",
    "\n",
    "# df[\"year\"] = pd.to_datetime(df.year) \n",
    "# df[\"month\"] = pd.to_datetime(df.month) \n",
    "# df[\"day\"] = pd.to_datetime(df.day) \n",
    "\n",
    "# type(df['day'][1])\n",
    "# df[\"approxdate\"] = pd.to_datetime(df[[\"year\",\"month\",\"day\"]])"
   ]
  },
  {
   "cell_type": "code",
   "execution_count": null,
   "metadata": {
    "collapsed": true
   },
   "outputs": [],
   "source": [
    "# UShost[['country_txt', \n",
    "#         'attacktype1_txt', \n",
    "#         'nhostkid', \n",
    "#         'year', \n",
    "#         'month', \n",
    "#         'day',\n",
    "#        'addnotes',\n",
    "#         'scite1',\n",
    "#         'scite2',\n",
    "#         'scite3',\n",
    "#         'success',\n",
    "#         'suicide'\n",
    "#        ]].sort_values('nhostkid')"
   ]
  },
  {
   "cell_type": "code",
   "execution_count": null,
   "metadata": {
    "collapsed": true
   },
   "outputs": [],
   "source": [
    "df.index = df['date']\n",
    "del df['date']\n",
    "\n",
    "print df.shape\n",
    "df.head(1)\n",
    "#was going to send these to_datetime (like Mike Salmon), but found a hackier way..."
   ]
  },
  {
   "cell_type": "code",
   "execution_count": null,
   "metadata": {
    "collapsed": true
   },
   "outputs": [],
   "source": [
    "# df[\"date\"] = pd.to_datetime(df.eventid) \n",
    "# df.head()\n",
    "#codebook says the event id is the date plus a number - but that \n",
    "# will translate to hours, minutes, etc, and I don't even need them, so \n",
    "# I can use this as my date column - and I will reindex on it"
   ]
  },
  {
   "cell_type": "code",
   "execution_count": null,
   "metadata": {
    "collapsed": true
   },
   "outputs": [],
   "source": [
    "# Date = df[df['iyear'], df['imonth'], df['iday']]\n",
    "# df['date'] = [df.eventid.replace]\n",
    "# date= []\n",
    "# for i in df.eventid:\n",
    "#     i = i.replace()\n",
    "#     date.append(i)\n",
    "\n",
    "# date_df = [df.iyear, df.imonth, df.iday, df.eventid]\n",
    "# pd.DataFrame(date_df)\n",
    "\n"
   ]
  },
  {
   "cell_type": "code",
   "execution_count": null,
   "metadata": {
    "collapsed": true
   },
   "outputs": [],
   "source": [
    "# df[['y1','y2','y3','y4','m1','m2','d1','d2','id1','id2','id3','id4']] = df['eventid'].astype(str).apply(lambda x: pd.Series(list(x))).astype(int)\n",
    "# df.head()"
   ]
  },
  {
   "cell_type": "code",
   "execution_count": null,
   "metadata": {
    "collapsed": true
   },
   "outputs": [],
   "source": [
    "# def date(datestr=\"\", format=\"%Y-%m-%d\"):\n",
    "#     from datetime import datetime\n",
    "#     if not datestr:\n",
    "#         return datetime.today().date()\n",
    "#     return datetime.strptime(datestr, format).date()"
   ]
  },
  {
   "cell_type": "code",
   "execution_count": null,
   "metadata": {
    "collapsed": true
   },
   "outputs": [],
   "source": [
    "Mike Salmon\n",
    "\n",
    "#to more easily convert to datetime, I need to rename the data columns to just year, month, and day\n",
    "#thanks for stack overflow: https://stackoverflow.com/questions/19350806/how-to-convert-columns-into-one-datetime-column-in-pandas\n",
    "df.rename(columns={'iyear':'year', 'imonth':'month', 'iday':'day'}, inplace=True) #saves changes \n",
    "#imputing collected data values over \"approxdate\" to have singular day for each event\n",
    "# df[\"approxdate\"] = pd.to_datetime(df[[\"year\",\"month\",\"day\"]])\n",
    "# df.head(1)"
   ]
  }
 ],
 "metadata": {
  "anaconda-cloud": {},
  "kernelspec": {
   "display_name": "Python [default]",
   "language": "python",
   "name": "python2"
  },
  "language_info": {
   "codemirror_mode": {
    "name": "ipython",
    "version": 2
   },
   "file_extension": ".py",
   "mimetype": "text/x-python",
   "name": "python",
   "nbconvert_exporter": "python",
   "pygments_lexer": "ipython2",
   "version": "2.7.12"
  }
 },
 "nbformat": 4,
 "nbformat_minor": 1
}
