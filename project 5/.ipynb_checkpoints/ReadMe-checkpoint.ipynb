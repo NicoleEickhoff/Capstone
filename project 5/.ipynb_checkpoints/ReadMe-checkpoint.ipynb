{
 "cells": [
  {
   "cell_type": "markdown",
   "metadata": {
    "collapsed": true
   },
   "source": [
    "# ![](https://ga-dash.s3.amazonaws.com/production/assets/logo-9f88ae6c9c3871690e33280fcf557f33.png) Project 4: Predicting Terrorism / Bayesian Inference (Mini)\n",
    "\n",
    "Over the course of the last week, we've been investigating Bayesian methods to understand various populations. This project calls on you to apply Bayesian inference (and other tactics) to a fascinating dataset: the Global Terrorism Database.\n",
    "\n",
    "## About the Dataset\n",
    "\n",
    "From Kaggle:\n",
    "> The Global Terrorism Database (GTD) is an open-source database including information on terrorist attacks around the world from 1970 through 2015 (with annual updates planned for the future). The GTD includes systematic data on domestic as well as international terrorist incidents that have occurred during this time period and now includes more than 150,000 cases. The database is maintained by researchers at the National Consortium for the Study of Terrorism and Responses to Terrorism (START), headquartered at the [University of Maryland](http://start.umd.edu/gtd/). \n",
    "\n",
    "> Geography: Worldwide\n",
    "\n",
    "> Time period: 1970-2015, except 1993 (2016 in progress, publication expected June 2017)\n",
    "\n",
    "> Unit of analysis: Attack\n",
    "\n",
    "> Variables: >100 variables on location, tactics, perpetrators, targets, and outcomes\n",
    "\n",
    "> Sources: Unclassified media articles (Note: Please interpret changes over time with caution. Global patterns are driven by diverse trends in particular regions, and data collection is influenced by fluctuations in access to media coverage over both time and place.)\n",
    "\n",
    "> Definition of terrorism:\n",
    "\n",
    "> \"The threatened or actual use of illegal force and violence by a non-state actor to attain a political, economic, religious, or social goal through fear, coercion, or intimidation.\"\n",
    "\n",
    "You will need to make use of the [codebook](http://start.umd.edu/gtd/downloads/Codebook.pdf) that functions as a data dictionary.\n",
    "\n",
    "Moreover, this [2007 paper by LaFree (UMD)](https://ccjs.umd.edu/sites/ccjs.umd.edu/files/pubs/FTPV_A_224594.pdf) introduces the dataset very well.\n",
    "\n",
    "You must download the 28MB zip file, unzip it, and work with the 128MB csv on your machine.\n",
    "\n",
    "\n",
    "## Goal\n",
    "\n",
    "While there are fewer requirements of this project, the open-ended nature of the ask should force you to think about your approach and research methods. When assessing your performance on this project, we are equally interested in the method and questions you are asking as much as the implementation of those methods.\n",
    "\n",
    "In the process of maintaining the GTD, you'll note that the year 1993 has zero recorded instances. Due to the many actors maintaining the dataset, this year has been lost.\n",
    "\n",
    "Your goal is to impute the number of bombing/exposions that occured in 1993. (You'll note that **even we** do not have the answer. That increases our focus on your methods.)\n",
    "\n",
    "The structure of your project must include four components: exploratory data analysis, Bayesian inference to examine the the difference in incidences across the globe, a model to impute the missing values, and a brief description of your methods. \n",
    "\n",
    "\n",
    "### Part One: EDA\n",
    "\n",
    "You should gain an understanding of the attacks (focus on `attacktype1`), their distribution across the world, and their frequency.\n",
    "\n",
    "You will discover different things than your classmates on this portion. Your presentation should include compelling visualizations describing terror incidents around the world.\n",
    "\n",
    "You are **required** to produce at least one visualization that is indexed by time. For example, the number of bombings that occurred by year over time.\n",
    "\n",
    "\n",
    "### Part Two: Bayesian Inference\n",
    "\n",
    "Terror attacks are a ripe area of research for Bayesian inference. Given their infrequency, it is (thankfully) difficult for us to assume a high number of samples that approach some normal distribution.\n",
    "\n",
    "Because of this, we should construct a prior about the amount of terror a given area has seen and update that prior with new information (like a new year of attacks or a contrasting country from within the same region). \n",
    "\n",
    "You should compare two populations of your choosing using Bayesian inference. We want to know if the amount of terror one area has seen differs in a significant way than another area (or time period!)\n",
    "\n",
    "For example, if you are interested in knowing if one country in South America differs in a significant way from another area, you may make your prior  assume that some country is a country in South America with μ average attacks and σ variation across South American countries. You would then update that prior with the information of a single country in South America as well as a separate country in South America. How significantly do the resulting posteriors differ? (An important assumption made here is that the time periods are being held constant, perhaps a single year.)\n",
    "\n",
    "You should structure your own test of populations rather than using the above example. If you're unable to setup a different test, brainstorm with your squad in the Slack chat.\n",
    "\n",
    "You must justify the prior you selected and interpret your results (use credible intervals.) Remember you can attempt to use different priors (but don't \"prior hack\" to affect your output!)\n",
    "\n",
    "\n",
    "### Part Three: 1993\n",
    "\n",
    "The year 1993 is missing from our dataset! Given there is a wealth of information across different types of attacks, we will focus analysis on `attacktype1` bombings (category 3, as per the codebook)\n",
    "\n",
    "For this section, you should determine a methodology that allows you to best fill in the missing values. Perhaps you want to consider hemispheres to be separate models, for example. (That's the only hint you'll receive - and even that hint is not an optimal option.)\n",
    "\n",
    "Once you've created your methodology and imputed the number of bombings in 1993, you should feel free to apply your methodology to **OTHER** attack categories. (Bonus opportunity: turn your method into a pipeline. Use that pipeline to fill in other missing attack values.)\n",
    "\n",
    "\n",
    "### Part Four: Methods\n",
    "\n",
    "Please draft a max two page (or four pages double spaced) report discussing your methodology and findings. Visualizations may be included in an appendix.\n",
    "\n",
    "Your write-up should have two parts: the Bayesian test you constructed and the values you imputed for 1993 attacks.\n",
    "\n",
    "In your Bayesian inference section, be sure to defend your prior. Comment on your results of the differing populations.\n",
    "\n",
    "In your missing value imputation modelling portion, justify the model or tactic you used. Bear in mind simply averaging by hemisphere can, theoretically, be a solution. Err on the side of simple and elegant rather than complex to be complex.\n",
    "\n",
    "\n",
    "## Other\n",
    "\n",
    "If you're enjoying this research (and want to go further), get in touch with Joseph. Your results can be shared with UMD START and academics. ([Gary LaFree](http://www.start.umd.edu/people/gary-lafree) or [Erin Miller](http://www.start.umd.edu/people/erin-miller))\n",
    "\n",
    "Moreover, if you want to dig into the literature, check out [Dr. Schrodt's](http://parusanalytics.com/about.html) Bayesian approach to understanding terror.\n",
    "\n",
    "Thank you to [Dr. Joseph Young](http://fs2.american.edu/jyoung/www/) for his thoughts on this research.\n",
    "\n",
    "\n"
   ]
  },
  {
   "cell_type": "code",
   "execution_count": null,
   "metadata": {
    "collapsed": false
   },
   "outputs": [],
   "source": [
    "%pwd"
   ]
  },
  {
   "cell_type": "code",
   "execution_count": null,
   "metadata": {
    "collapsed": false
   },
   "outputs": [],
   "source": [
    "from openpyxl.utils.dataframe import dataframe_to_rows\n",
    "wb = Workbook('/Users/nicoleeickhoff/Desktop/project 5/globalterrorismdb_0616dist.xlsx')\n",
    "ws = wb.active\n",
    "\n",
    "for r in dataframe_to_rows(df, index=True, header=True):\n",
    "    ws.append(r)"
   ]
  },
  {
   "cell_type": "code",
   "execution_count": null,
   "metadata": {
    "collapsed": false
   },
   "outputs": [],
   "source": [
    "from openpyxl import load_workbook\n",
    "wb = load_workbook(filename = 'globalterrorismdb_0616dist.xlsx')\n",
    "# sheet_ranges = wb['range names']\n",
    "# print(sheet_ranges['D18'].value)\n"
   ]
  },
  {
   "cell_type": "code",
   "execution_count": null,
   "metadata": {
    "collapsed": true
   },
   "outputs": [],
   "source": [
    "import pandas as pd"
   ]
  },
  {
   "cell_type": "code",
   "execution_count": null,
   "metadata": {
    "collapsed": false
   },
   "outputs": [],
   "source": [
    "df = pd.read_excel('globalterrorismdb_0616dist.xlsx')"
   ]
  },
  {
   "cell_type": "markdown",
   "metadata": {},
   "source": [
    "(From missing data on July 31, 1972)\n",
    "United StatesAlgeria July 31, 1972: Delta Air Lines Flight 841 was hijacked by five members of the Black Liberation Army including the elusive George Wright. The flight was originally from Detroit to Miami. The hijackers exchanged the passengers for $1 million in Miami and forced the plane to fly to Boston, then to Algeria, who returned the plane and cash but released the hijackers.\n",
    "\n",
    "(from missing data on March 28, 1984) MIAMI, March 28— A man claiming to be a member of the Black Liberation Army hijacked a Piedmont Aviation jet with 58 people aboard and forced it to fly to Havana today. He was quickly taken into custody by the Cuban authorities, the Federal Aviation Administration said. The takeover of the flight, which was on the way from Charleston, S.C., to Miami after originating in Newark, was the 12th such incident since last May 1. No injuries were reported.\n",
    "In Washington, Dennis Feldman, an F.A.A. spokesman, said that within an hour of the plane's arrival in Havana, the hijacker was in custody. The jet returned safely to Miami.\n",
    "\n",
    "(for September 10, 1976)\n",
    "TWA Flight 355 was a domestic Trans World Airlines flight which was hijacked on September 10, 1976 by five \"Fighters for Free Croatia\",[1] a group seeking Croatian independence from Yugoslavia. The incident occurred on the same day as the Zagreb mid-air collision, which to date remains Croatia's worst air disaster.The Boeing 727 plane took off from New York's LaGuardia Airport and was headed to O'Hare International Airport in Chicago. The hijackers were Slobodan Vlašić, Zvonko Bušić, his wife Julienne Bušić,[2] Petar Matanić, and Frane Pešut. The hijackers claimed to have a bomb as they seized control of the plane in the 95th minute of its flight; the alleged bomb on board was actually a pressure cooker.[3]\n",
    "The group redirected the plane to Montreal's Mirabel International Airport where they refueled and told officials that they had planted a bomb in a locker at Grand Central Terminal and gave them instructions on finding it. They demanded that an appeal to the American people concerning Croatia's independence be printed in the New York Times, the Washington Post, the Chicago Tribune, the Los Angeles Times, and the International Herald Tribune. The plane was then flown to Gander, Newfoundland, where 35 of its passengers were released. From there the plane was accompanied by a larger TWA plane which guided it to Reykjavík, Iceland. The hijackers' initial European destination was London, but the British government refused them permission to land.[4]\n",
    "During the hijacking the device at Grand Central Terminal was found and taken to Rodman's Neck Firing Range where police attempted to dismantle it rather than detonate it. After setting a cutting instrument on the two wires attached to the device, the officers retreated from the pit for several minutes. They then returned to the pit to continue dismantling the device when it exploded and killed an officer, Brian Murray, and wounded another, Terrence McTigue.[5]\n",
    "The plane landed in Paris where the hijackers surrendered after direct talks with U.S. ambassador Kenneth Rush, and their supposedly explosive devices were revealed to be fakes.[4][6] As the police took Julienne Bušić away, the plane's pilot gave her a hug in gratitude for her calming of the passengers during the hijacking.[7]\n",
    "\n"
   ]
  },
  {
   "cell_type": "markdown",
   "metadata": {},
   "source": [
    "These didn't even make it into the dataset, for example!!  And this is just the 70s!!\n",
    "March 13, 1978\n",
    "United States March 13, 1978: United Flight 696 was hijacked by a lone American immediately after takeoff out of SFO. The aircraft landed in Oakland and the release of cabin crew and passengers was negotiated by the flight crew. The fueling was cut short by the hijacker and Flt 696 took off only partially refueled. Flight 696 landed in Denver to take on more fuel for Cuba. While waiting for the fuel, the cockpit crew jumped from the cockpit to escape the hijacker. The hijacker surrendered to the FBI within minutes of the crew's escape. No fatalities but the three cockpit crew-members suffered fractures and torn cartilage from the two-story leap.\n",
    "United StatesHonduras May 5, 1972: Frederick Hahneman hijacked Eastern Air Lines Flight 175 en route from Allentown, Pa, to Miami, Fl. After receiving $303,000, 6 parachutes and two cartons of cigarettes he ordered the pilot to fly to Honduras, his birth country, where he parachuted over the jungle and disappeared. A manhunt by the FBI and Honduran police, plus a $25,000 bounty from the airline eventually led to his surrender.[47][48][49]\n",
    "United StatesAlgeria June 3, 1972: Western Airlines Flight 701 from Los Angeles to Seattle was hijacked by Willie Roger Holder, a black Vietnam veteran, and Catherine Marie Kerkow, his white girlfriend. The hijackers claimed they had a bomb in an attaché case and demanded $500,000. After allowing all 97 passengers to get off in San Francisco, they flew to Algeria where they were granted political asylum. The Algerian government confiscated and returned $488,000 of the ransom money to US officials.[50][51][52][53]\n",
    "United States June 23, 1972: In the 9th copycat D.B. Cooper-style hijacking Martin J. McNally under the pseudonym of Robert W. Wilson hijacked American Airlines Flight 119, a Boeing 727 bound from St. Louis to Tulsa and demanded $502,500. The plane flew back and forth between Tulsa and St. Louis while the loot was raised. In St. Louis, live news reports about the hijacking prompted David J. Hanley, a 30-year-old businessman, to crash his 1972 Cadillac at 80 mph through two airport fences, travel down the runway at high speed and crash into the nosegear of the plane, which was beginning to taxi. The demolished car lodged under the fuselage and one wing. Hanley suffered multiple injuries and was charged with willfully damaging a civil aircraft. The hijacker transferred to a new 727 and jumped out of the plane over Indiana. The full loot bag and gun were discovered by searchers near Peru, Indiana. Fingerprints led to McNally. While in Marion Federal Prison McNally and fellow inmate and hijacker Garrett Trapnell (see January 28, 1972 above) on May 24, 1978 were involved in an attempted prison escape after Trapnell's girlfriend hijacked a helicopter. The escape attempt ended when the helicopter pilot grabbed the woman's gun and killed her. McNally was paroled from prison January 27, 2010.[54][55]\n",
    "United States July 5, 1972: Pacific Southwest Airlines Flight 710 was hijacked by two Bulgarian immigrants shortly after take-off from Sacramento, California en route to San Francisco. The hijackers demanded $800,000, two parachutes and to be flown to the Soviet Union. The hijacking ended on the runway in San Francisco when agents from the Federal Bureau of Investigation stormed the plane killing both hijackers and one passenger. Two other passengers were wounded. These were the first passengers killed and wounded in a skyjacking in the United States.[56]\n",
    "\n"
   ]
  },
  {
   "cell_type": "markdown",
   "metadata": {},
   "source": [
    "SOME interesting shit leading to 2001: \n",
    "AfghanistanUnited Kingdom February 6, 2000: Ariana Afghan Airlines Boeing 727 was hijacked on an internal flight within Taliban-controlled Afghanistan, and ended up at London Stansted Airport, where most of the passengers claimed political asylum."
   ]
  },
  {
   "cell_type": "markdown",
   "metadata": {},
   "source": []
  }
 ],
 "metadata": {
  "anaconda-cloud": {},
  "kernelspec": {
   "display_name": "Python [default]",
   "language": "python",
   "name": "python2"
  },
  "language_info": {
   "codemirror_mode": {
    "name": "ipython",
    "version": 2
   },
   "file_extension": ".py",
   "mimetype": "text/x-python",
   "name": "python",
   "nbconvert_exporter": "python",
   "pygments_lexer": "ipython2",
   "version": "2.7.12"
  }
 },
 "nbformat": 4,
 "nbformat_minor": 1
}
